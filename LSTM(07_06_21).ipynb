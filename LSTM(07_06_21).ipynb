{
  "nbformat": 4,
  "nbformat_minor": 0,
  "metadata": {
    "colab": {
      "name": "LSTM(07/06/21).ipynb",
      "provenance": [],
      "collapsed_sections": [],
      "authorship_tag": "ABX9TyOqU6zm8XJ3ovjcWf6nStQ1",
      "include_colab_link": true
    },
    "kernelspec": {
      "name": "python3",
      "display_name": "Python 3"
    },
    "language_info": {
      "name": "python"
    }
  },
  "cells": [
    {
      "cell_type": "markdown",
      "metadata": {
        "id": "view-in-github",
        "colab_type": "text"
      },
      "source": [
        "<a href=\"https://colab.research.google.com/github/wuziqin/wuziqin/blob/master/LSTM(07_06_21).ipynb\" target=\"_parent\"><img src=\"https://colab.research.google.com/assets/colab-badge.svg\" alt=\"Open In Colab\"/></a>"
      ]
    },
    {
      "cell_type": "code",
      "metadata": {
        "id": "3_cP07CVA2_5",
        "colab": {
          "base_uri": "https://localhost:8080/"
        },
        "outputId": "ac16c1ac-d4cf-4bf0-a2da-7832277d46e5"
      },
      "source": [
        "#import the packages\n",
        "import math\n",
        "import statistics \n",
        "import numpy as np\n",
        "import pandas as pd\n",
        "from pandas import Series, DataFrame\n",
        "import scipy\n",
        "!pip install tensorflow\n",
        "\n",
        "\n",
        "import matplotlib.pyplot as plt\n",
        "import seaborn as sns\n",
        "sns.set(style=\"darkgrid\", font_scale=1.5)\n",
        "%matplotlib inline"
      ],
      "execution_count": 172,
      "outputs": [
        {
          "output_type": "stream",
          "text": [
            "Requirement already satisfied: tensorflow in /usr/local/lib/python3.7/dist-packages (2.5.0)\n",
            "Requirement already satisfied: keras-preprocessing~=1.1.2 in /usr/local/lib/python3.7/dist-packages (from tensorflow) (1.1.2)\n",
            "Requirement already satisfied: flatbuffers~=1.12.0 in /usr/local/lib/python3.7/dist-packages (from tensorflow) (1.12)\n",
            "Requirement already satisfied: termcolor~=1.1.0 in /usr/local/lib/python3.7/dist-packages (from tensorflow) (1.1.0)\n",
            "Requirement already satisfied: six~=1.15.0 in /usr/local/lib/python3.7/dist-packages (from tensorflow) (1.15.0)\n",
            "Requirement already satisfied: tensorflow-estimator<2.6.0,>=2.5.0rc0 in /usr/local/lib/python3.7/dist-packages (from tensorflow) (2.5.0)\n",
            "Requirement already satisfied: absl-py~=0.10 in /usr/local/lib/python3.7/dist-packages (from tensorflow) (0.12.0)\n",
            "Requirement already satisfied: numpy~=1.19.2 in /usr/local/lib/python3.7/dist-packages (from tensorflow) (1.19.5)\n",
            "Requirement already satisfied: gast==0.4.0 in /usr/local/lib/python3.7/dist-packages (from tensorflow) (0.4.0)\n",
            "Requirement already satisfied: wrapt~=1.12.1 in /usr/local/lib/python3.7/dist-packages (from tensorflow) (1.12.1)\n",
            "Requirement already satisfied: protobuf>=3.9.2 in /usr/local/lib/python3.7/dist-packages (from tensorflow) (3.12.4)\n",
            "Requirement already satisfied: keras-nightly~=2.5.0.dev in /usr/local/lib/python3.7/dist-packages (from tensorflow) (2.5.0.dev2021032900)\n",
            "Requirement already satisfied: astunparse~=1.6.3 in /usr/local/lib/python3.7/dist-packages (from tensorflow) (1.6.3)\n",
            "Requirement already satisfied: opt-einsum~=3.3.0 in /usr/local/lib/python3.7/dist-packages (from tensorflow) (3.3.0)\n",
            "Requirement already satisfied: grpcio~=1.34.0 in /usr/local/lib/python3.7/dist-packages (from tensorflow) (1.34.1)\n",
            "Requirement already satisfied: h5py~=3.1.0 in /usr/local/lib/python3.7/dist-packages (from tensorflow) (3.1.0)\n",
            "Requirement already satisfied: tensorboard~=2.5 in /usr/local/lib/python3.7/dist-packages (from tensorflow) (2.5.0)\n",
            "Requirement already satisfied: typing-extensions~=3.7.4 in /usr/local/lib/python3.7/dist-packages (from tensorflow) (3.7.4.3)\n",
            "Requirement already satisfied: google-pasta~=0.2 in /usr/local/lib/python3.7/dist-packages (from tensorflow) (0.2.0)\n",
            "Requirement already satisfied: wheel~=0.35 in /usr/local/lib/python3.7/dist-packages (from tensorflow) (0.36.2)\n",
            "Requirement already satisfied: setuptools in /usr/local/lib/python3.7/dist-packages (from protobuf>=3.9.2->tensorflow) (57.0.0)\n",
            "Requirement already satisfied: cached-property; python_version < \"3.8\" in /usr/local/lib/python3.7/dist-packages (from h5py~=3.1.0->tensorflow) (1.5.2)\n",
            "Requirement already satisfied: requests<3,>=2.21.0 in /usr/local/lib/python3.7/dist-packages (from tensorboard~=2.5->tensorflow) (2.23.0)\n",
            "Requirement already satisfied: markdown>=2.6.8 in /usr/local/lib/python3.7/dist-packages (from tensorboard~=2.5->tensorflow) (3.3.4)\n",
            "Requirement already satisfied: werkzeug>=0.11.15 in /usr/local/lib/python3.7/dist-packages (from tensorboard~=2.5->tensorflow) (1.0.1)\n",
            "Requirement already satisfied: tensorboard-data-server<0.7.0,>=0.6.0 in /usr/local/lib/python3.7/dist-packages (from tensorboard~=2.5->tensorflow) (0.6.1)\n",
            "Requirement already satisfied: tensorboard-plugin-wit>=1.6.0 in /usr/local/lib/python3.7/dist-packages (from tensorboard~=2.5->tensorflow) (1.8.0)\n",
            "Requirement already satisfied: google-auth<2,>=1.6.3 in /usr/local/lib/python3.7/dist-packages (from tensorboard~=2.5->tensorflow) (1.31.0)\n",
            "Requirement already satisfied: google-auth-oauthlib<0.5,>=0.4.1 in /usr/local/lib/python3.7/dist-packages (from tensorboard~=2.5->tensorflow) (0.4.4)\n",
            "Requirement already satisfied: certifi>=2017.4.17 in /usr/local/lib/python3.7/dist-packages (from requests<3,>=2.21.0->tensorboard~=2.5->tensorflow) (2021.5.30)\n",
            "Requirement already satisfied: idna<3,>=2.5 in /usr/local/lib/python3.7/dist-packages (from requests<3,>=2.21.0->tensorboard~=2.5->tensorflow) (2.10)\n",
            "Requirement already satisfied: chardet<4,>=3.0.2 in /usr/local/lib/python3.7/dist-packages (from requests<3,>=2.21.0->tensorboard~=2.5->tensorflow) (3.0.4)\n",
            "Requirement already satisfied: urllib3!=1.25.0,!=1.25.1,<1.26,>=1.21.1 in /usr/local/lib/python3.7/dist-packages (from requests<3,>=2.21.0->tensorboard~=2.5->tensorflow) (1.24.3)\n",
            "Requirement already satisfied: importlib-metadata; python_version < \"3.8\" in /usr/local/lib/python3.7/dist-packages (from markdown>=2.6.8->tensorboard~=2.5->tensorflow) (4.5.0)\n",
            "Requirement already satisfied: pyasn1-modules>=0.2.1 in /usr/local/lib/python3.7/dist-packages (from google-auth<2,>=1.6.3->tensorboard~=2.5->tensorflow) (0.2.8)\n",
            "Requirement already satisfied: cachetools<5.0,>=2.0.0 in /usr/local/lib/python3.7/dist-packages (from google-auth<2,>=1.6.3->tensorboard~=2.5->tensorflow) (4.2.2)\n",
            "Requirement already satisfied: rsa<5,>=3.1.4; python_version >= \"3.6\" in /usr/local/lib/python3.7/dist-packages (from google-auth<2,>=1.6.3->tensorboard~=2.5->tensorflow) (4.7.2)\n",
            "Requirement already satisfied: requests-oauthlib>=0.7.0 in /usr/local/lib/python3.7/dist-packages (from google-auth-oauthlib<0.5,>=0.4.1->tensorboard~=2.5->tensorflow) (1.3.0)\n",
            "Requirement already satisfied: zipp>=0.5 in /usr/local/lib/python3.7/dist-packages (from importlib-metadata; python_version < \"3.8\"->markdown>=2.6.8->tensorboard~=2.5->tensorflow) (3.4.1)\n",
            "Requirement already satisfied: pyasn1<0.5.0,>=0.4.6 in /usr/local/lib/python3.7/dist-packages (from pyasn1-modules>=0.2.1->google-auth<2,>=1.6.3->tensorboard~=2.5->tensorflow) (0.4.8)\n",
            "Requirement already satisfied: oauthlib>=3.0.0 in /usr/local/lib/python3.7/dist-packages (from requests-oauthlib>=0.7.0->google-auth-oauthlib<0.5,>=0.4.1->tensorboard~=2.5->tensorflow) (3.1.1)\n"
          ],
          "name": "stdout"
        }
      ]
    },
    {
      "cell_type": "markdown",
      "metadata": {
        "id": "ymB1r6COB1KX"
      },
      "source": [
        "\n",
        "\n",
        "## 1.   Read in the excel file\n",
        "\n",
        "\n"
      ]
    },
    {
      "cell_type": "code",
      "metadata": {
        "colab": {
          "base_uri": "https://localhost:8080/",
          "height": 419
        },
        "id": "Z7zl6wdqBJKC",
        "outputId": "8e2cb75a-29c6-491f-e845-4ab88821a0e1"
      },
      "source": [
        "# loads the raw data \n",
        "data = pd.read_excel(\"/content/data.xlsx\")\n",
        "data['Date']=pd.to_datetime(data.Date, format='%Y%m', errors='ignore')\n",
        "data"
      ],
      "execution_count": 173,
      "outputs": [
        {
          "output_type": "execute_result",
          "data": {
            "text/html": [
              "<div>\n",
              "<style scoped>\n",
              "    .dataframe tbody tr th:only-of-type {\n",
              "        vertical-align: middle;\n",
              "    }\n",
              "\n",
              "    .dataframe tbody tr th {\n",
              "        vertical-align: top;\n",
              "    }\n",
              "\n",
              "    .dataframe thead th {\n",
              "        text-align: right;\n",
              "    }\n",
              "</style>\n",
              "<table border=\"1\" class=\"dataframe\">\n",
              "  <thead>\n",
              "    <tr style=\"text-align: right;\">\n",
              "      <th></th>\n",
              "      <th>Date</th>\n",
              "      <th>Return</th>\n",
              "      <th>Index</th>\n",
              "      <th>D12</th>\n",
              "      <th>E12</th>\n",
              "      <th>tbl</th>\n",
              "      <th>AAA</th>\n",
              "      <th>BAA</th>\n",
              "      <th>lty</th>\n",
              "      <th>Rfree</th>\n",
              "      <th>ppiaco</th>\n",
              "      <th>indpro</th>\n",
              "    </tr>\n",
              "  </thead>\n",
              "  <tbody>\n",
              "    <tr>\n",
              "      <th>0</th>\n",
              "      <td>1926-01-01</td>\n",
              "      <td>-0.001783</td>\n",
              "      <td>12.74</td>\n",
              "      <td>0.607500</td>\n",
              "      <td>1.249</td>\n",
              "      <td>0.0349</td>\n",
              "      <td>0.0482</td>\n",
              "      <td>0.0609</td>\n",
              "      <td>0.037400</td>\n",
              "      <td>0.002908</td>\n",
              "      <td>0.00000</td>\n",
              "      <td>-1.64504</td>\n",
              "    </tr>\n",
              "    <tr>\n",
              "      <th>1</th>\n",
              "      <td>1926-02-01</td>\n",
              "      <td>-0.033296</td>\n",
              "      <td>12.18</td>\n",
              "      <td>0.615000</td>\n",
              "      <td>1.248</td>\n",
              "      <td>0.0318</td>\n",
              "      <td>0.0477</td>\n",
              "      <td>0.0602</td>\n",
              "      <td>0.037200</td>\n",
              "      <td>0.002650</td>\n",
              "      <td>-1.12360</td>\n",
              "      <td>0.00000</td>\n",
              "    </tr>\n",
              "    <tr>\n",
              "      <th>2</th>\n",
              "      <td>1926-03-01</td>\n",
              "      <td>-0.057708</td>\n",
              "      <td>11.46</td>\n",
              "      <td>0.622500</td>\n",
              "      <td>1.248</td>\n",
              "      <td>0.0314</td>\n",
              "      <td>0.0479</td>\n",
              "      <td>0.0605</td>\n",
              "      <td>0.037100</td>\n",
              "      <td>0.002617</td>\n",
              "      <td>-1.70455</td>\n",
              "      <td>1.25555</td>\n",
              "    </tr>\n",
              "    <tr>\n",
              "      <th>3</th>\n",
              "      <td>1926-04-01</td>\n",
              "      <td>0.038522</td>\n",
              "      <td>11.72</td>\n",
              "      <td>0.630000</td>\n",
              "      <td>1.247</td>\n",
              "      <td>0.0308</td>\n",
              "      <td>0.0474</td>\n",
              "      <td>0.0598</td>\n",
              "      <td>0.036800</td>\n",
              "      <td>0.002567</td>\n",
              "      <td>0.00000</td>\n",
              "      <td>0.00000</td>\n",
              "    </tr>\n",
              "    <tr>\n",
              "      <th>4</th>\n",
              "      <td>1926-05-01</td>\n",
              "      <td>0.013623</td>\n",
              "      <td>11.81</td>\n",
              "      <td>0.637500</td>\n",
              "      <td>1.246</td>\n",
              "      <td>0.0317</td>\n",
              "      <td>0.0471</td>\n",
              "      <td>0.0586</td>\n",
              "      <td>0.036900</td>\n",
              "      <td>0.002642</td>\n",
              "      <td>0.00000</td>\n",
              "      <td>-0.82666</td>\n",
              "    </tr>\n",
              "    <tr>\n",
              "      <th>...</th>\n",
              "      <td>...</td>\n",
              "      <td>...</td>\n",
              "      <td>...</td>\n",
              "      <td>...</td>\n",
              "      <td>...</td>\n",
              "      <td>...</td>\n",
              "      <td>...</td>\n",
              "      <td>...</td>\n",
              "      <td>...</td>\n",
              "      <td>...</td>\n",
              "      <td>...</td>\n",
              "      <td>...</td>\n",
              "    </tr>\n",
              "    <tr>\n",
              "      <th>1111</th>\n",
              "      <td>2018-08-01</td>\n",
              "      <td>0.032938</td>\n",
              "      <td>2901.52</td>\n",
              "      <td>52.338996</td>\n",
              "      <td>130.390</td>\n",
              "      <td>0.0203</td>\n",
              "      <td>0.0388</td>\n",
              "      <td>0.0477</td>\n",
              "      <td>0.028891</td>\n",
              "      <td>0.001692</td>\n",
              "      <td>-0.44053</td>\n",
              "      <td>0.80311</td>\n",
              "    </tr>\n",
              "    <tr>\n",
              "      <th>1112</th>\n",
              "      <td>2018-09-01</td>\n",
              "      <td>0.005138</td>\n",
              "      <td>2913.98</td>\n",
              "      <td>52.338996</td>\n",
              "      <td>130.390</td>\n",
              "      <td>0.0213</td>\n",
              "      <td>0.0398</td>\n",
              "      <td>0.0488</td>\n",
              "      <td>0.030042</td>\n",
              "      <td>0.001775</td>\n",
              "      <td>0.09833</td>\n",
              "      <td>0.13723</td>\n",
              "    </tr>\n",
              "    <tr>\n",
              "      <th>1113</th>\n",
              "      <td>2018-10-01</td>\n",
              "      <td>-0.068409</td>\n",
              "      <td>2711.74</td>\n",
              "      <td>53.748178</td>\n",
              "      <td>132.390</td>\n",
              "      <td>0.0225</td>\n",
              "      <td>0.0414</td>\n",
              "      <td>0.0507</td>\n",
              "      <td>0.031523</td>\n",
              "      <td>0.001875</td>\n",
              "      <td>0.49116</td>\n",
              "      <td>0.22029</td>\n",
              "    </tr>\n",
              "    <tr>\n",
              "      <th>1114</th>\n",
              "      <td>2018-11-01</td>\n",
              "      <td>0.019980</td>\n",
              "      <td>2760.17</td>\n",
              "      <td>53.748178</td>\n",
              "      <td>132.390</td>\n",
              "      <td>0.0233</td>\n",
              "      <td>0.0422</td>\n",
              "      <td>0.0522</td>\n",
              "      <td>0.031170</td>\n",
              "      <td>0.001942</td>\n",
              "      <td>-1.12414</td>\n",
              "      <td>0.53695</td>\n",
              "    </tr>\n",
              "    <tr>\n",
              "      <th>1115</th>\n",
              "      <td>2018-12-01</td>\n",
              "      <td>-0.090928</td>\n",
              "      <td>2506.85</td>\n",
              "      <td>53.748178</td>\n",
              "      <td>132.390</td>\n",
              "      <td>0.0237</td>\n",
              "      <td>0.0402</td>\n",
              "      <td>0.0513</td>\n",
              "      <td>0.028326</td>\n",
              "      <td>0.001975</td>\n",
              "      <td>-0.64261</td>\n",
              "      <td>0.04063</td>\n",
              "    </tr>\n",
              "  </tbody>\n",
              "</table>\n",
              "<p>1116 rows × 12 columns</p>\n",
              "</div>"
            ],
            "text/plain": [
              "           Date    Return    Index  ...     Rfree   ppiaco   indpro\n",
              "0    1926-01-01 -0.001783    12.74  ...  0.002908  0.00000 -1.64504\n",
              "1    1926-02-01 -0.033296    12.18  ...  0.002650 -1.12360  0.00000\n",
              "2    1926-03-01 -0.057708    11.46  ...  0.002617 -1.70455  1.25555\n",
              "3    1926-04-01  0.038522    11.72  ...  0.002567  0.00000  0.00000\n",
              "4    1926-05-01  0.013623    11.81  ...  0.002642  0.00000 -0.82666\n",
              "...         ...       ...      ...  ...       ...      ...      ...\n",
              "1111 2018-08-01  0.032938  2901.52  ...  0.001692 -0.44053  0.80311\n",
              "1112 2018-09-01  0.005138  2913.98  ...  0.001775  0.09833  0.13723\n",
              "1113 2018-10-01 -0.068409  2711.74  ...  0.001875  0.49116  0.22029\n",
              "1114 2018-11-01  0.019980  2760.17  ...  0.001942 -1.12414  0.53695\n",
              "1115 2018-12-01 -0.090928  2506.85  ...  0.001975 -0.64261  0.04063\n",
              "\n",
              "[1116 rows x 12 columns]"
            ]
          },
          "metadata": {
            "tags": []
          },
          "execution_count": 173
        }
      ]
    },
    {
      "cell_type": "markdown",
      "metadata": {
        "id": "GJ4KgDwhCFYh"
      },
      "source": [
        "\n",
        "\n",
        "\n",
        "## 2.   Calculate the 12 predictors\n",
        "\n"
      ]
    },
    {
      "cell_type": "code",
      "metadata": {
        "colab": {
          "base_uri": "https://localhost:8080/",
          "height": 419
        },
        "id": "otc91ndsBT_Y",
        "outputId": "f0f0fa40-95ef-4121-89da-96158815f8f6"
      },
      "source": [
        "#construct the predictors\n",
        "rfLag   = data[\"Rfree\"]\n",
        "ppigLag = data[\"ppiaco\"]\n",
        "ipgLag  = data[\"indpro\"]\n",
        "\n",
        "#Python's Indexes start from ZERO\n",
        "startObs = 11\n",
        "stock = []\n",
        "date = []\n",
        "\n",
        "for i in range(startObs,len(data)):\n",
        "    a = data.Return[i]\n",
        "    b = rfLag[i-1]\n",
        "    stockC = a - b\n",
        "    \n",
        "    stock.append(stockC)\n",
        "    \n",
        "    dateC = data.Date[i]\n",
        "    date.append(dateC)\n",
        "\n",
        "stock = pd.DataFrame(stock)\n",
        "date = pd.DataFrame(date)\n",
        "stock = stock.multiply(100.0)\n",
        "\n",
        "\n",
        "#rx\n",
        "rx=pd.concat([date, stock], axis=1)\n",
        "new_col = ['Date', 'stock']\n",
        "rx.columns = new_col\n",
        "rx=rx.reset_index(drop=True)\n",
        "date['Date']=pd.to_datetime(data.Date, format='%Y%m', errors='ignore')\n",
        "\n",
        "\n",
        "#vol, bill, bond, ma0112, ma0312, mom06, debug\n",
        "vol = []\n",
        "bill = []\n",
        "bond=[]\n",
        "ma0112 = []\n",
        "ma0312 = []\n",
        "mom06=[]\n",
        "debug = []\n",
        "\n",
        "for t in range(startObs,len(data)):\n",
        "    volC=math.sqrt((math.pi)/2)*(math.sqrt(12))*(np.mean(abs(data.Return[(t-(startObs)-0):t+1])))\n",
        "    vol.append(volC)\n",
        "    \n",
        "    billC = data.tbl[t-0]-np.mean(data.tbl[(t-(startObs)-0):t+1])\n",
        "    bill.append(billC)\n",
        "    \n",
        "    bondC = data.lty[t-0]-np.mean(data.lty[(t-(startObs)-0):t+1])\n",
        "    bond.append(bondC)\n",
        "    \n",
        "    ma0112C = int(data.Index[t]>np.mean(data.Index[(t-(startObs)-0):t+1]))\n",
        "    ma0112.append(ma0112C)\n",
        "    \n",
        "    ma0312C = int(np.mean(data.Index[(t-2):t+1])>np.mean(data.Index[(t-(startObs)-0):t+1]))\n",
        "\n",
        "   \n",
        "    ma0312.append(ma0312C)\n",
        "    \n",
        "    mom06C = int(data.Index[t]>data.Index[t-6])\n",
        "    mom06.append(mom06C)\n",
        "    \n",
        "vol = pd.DataFrame(vol)\n",
        "bill = pd.DataFrame(bill)\n",
        "bond = pd.DataFrame(bond)\n",
        "ma0112 = pd.DataFrame(ma0112)\n",
        "ma0312 = pd.DataFrame(ma0312)\n",
        "mom06 = pd.DataFrame(mom06)\n",
        "debug = pd.DataFrame(debug)\n",
        "\n",
        "\n",
        "#de, ep, term, credit, ppig, ipg\n",
        "date = []\n",
        "dp = []\n",
        "ep = []\n",
        "term = []\n",
        "credit = []\n",
        "ppig = []\n",
        "ipg = []\n",
        "\n",
        "\n",
        "for t in range(startObs,len(data)):\n",
        "    dateC = data.Date[t]\n",
        "    date.append(dateC)\n",
        "    \n",
        "    dpC = math.log(data.D12[t]/data.Index[t])\n",
        "    dp.append(dpC)\n",
        "\n",
        "    epC = math.log(data.E12[t]/data.Index[t])\n",
        "    ep.append(epC)\n",
        "    \n",
        "    \n",
        "    termC = 100.0*(data.lty[t]-data.tbl[t])\n",
        "    term.append(termC)\n",
        "\n",
        "    creditC = 100.0*(data.AAA[t]-data.lty[t])\n",
        "    credit.append(creditC)    \n",
        "    \n",
        "    \n",
        "for m in range(10,len(data)-1):\n",
        "    ipgC = ipgLag[m]\n",
        "    ipg.append(ipgC)\n",
        "\n",
        "    ppigC = ppigLag[m]\n",
        "    ppig.append(ppigC)\n",
        "\n",
        "\n",
        "date = pd.DataFrame(date)\n",
        "dp = pd.DataFrame(dp)\n",
        "ep = pd.DataFrame(ep)\n",
        "term = pd.DataFrame(term)\n",
        "credit = pd.DataFrame(credit)\n",
        "ppig = pd.DataFrame(ppig)\n",
        "ipg = pd.DataFrame(ipg)\n",
        "vol = vol.multiply(100.0)\n",
        "bill = bill.multiply(100.0)\n",
        "bond = bond.multiply(100.0)\n",
        "\n",
        "predictor = pd.concat([date, dp, ep, vol, bill, bond, term, credit, ppig, ipg, ma0112, ma0312, mom06],axis=1,ignore_index=True)\n",
        "predictor.columns = ['Date', 'dp', 'ep', 'vol', 'bill', 'bond', 'term', 'credit', 'ppig', 'ipg', 'ma0112', 'ma0312', 'mom06']\n",
        "predictor"
      ],
      "execution_count": 174,
      "outputs": [
        {
          "output_type": "execute_result",
          "data": {
            "text/html": [
              "<div>\n",
              "<style scoped>\n",
              "    .dataframe tbody tr th:only-of-type {\n",
              "        vertical-align: middle;\n",
              "    }\n",
              "\n",
              "    .dataframe tbody tr th {\n",
              "        vertical-align: top;\n",
              "    }\n",
              "\n",
              "    .dataframe thead th {\n",
              "        text-align: right;\n",
              "    }\n",
              "</style>\n",
              "<table border=\"1\" class=\"dataframe\">\n",
              "  <thead>\n",
              "    <tr style=\"text-align: right;\">\n",
              "      <th></th>\n",
              "      <th>Date</th>\n",
              "      <th>dp</th>\n",
              "      <th>ep</th>\n",
              "      <th>vol</th>\n",
              "      <th>bill</th>\n",
              "      <th>bond</th>\n",
              "      <th>term</th>\n",
              "      <th>credit</th>\n",
              "      <th>ppig</th>\n",
              "      <th>ipg</th>\n",
              "      <th>ma0112</th>\n",
              "      <th>ma0312</th>\n",
              "      <th>mom06</th>\n",
              "    </tr>\n",
              "  </thead>\n",
              "  <tbody>\n",
              "    <tr>\n",
              "      <th>0</th>\n",
              "      <td>1926-12-01</td>\n",
              "      <td>-2.973012</td>\n",
              "      <td>-2.386837</td>\n",
              "      <td>13.320052</td>\n",
              "      <td>-0.162500</td>\n",
              "      <td>-0.140000</td>\n",
              "      <td>0.470000</td>\n",
              "      <td>1.140000</td>\n",
              "      <td>-0.58480</td>\n",
              "      <td>-0.39851</td>\n",
              "      <td>1</td>\n",
              "      <td>1</td>\n",
              "      <td>1</td>\n",
              "    </tr>\n",
              "    <tr>\n",
              "      <th>1</th>\n",
              "      <td>1927-01-01</td>\n",
              "      <td>-2.942374</td>\n",
              "      <td>-2.374773</td>\n",
              "      <td>13.360827</td>\n",
              "      <td>0.019167</td>\n",
              "      <td>-0.150833</td>\n",
              "      <td>0.280000</td>\n",
              "      <td>1.150000</td>\n",
              "      <td>-0.58824</td>\n",
              "      <td>-0.40010</td>\n",
              "      <td>1</td>\n",
              "      <td>1</td>\n",
              "      <td>1</td>\n",
              "    </tr>\n",
              "    <tr>\n",
              "      <th>2</th>\n",
              "      <td>1927-02-01</td>\n",
              "      <td>-2.979535</td>\n",
              "      <td>-2.430353</td>\n",
              "      <td>13.803164</td>\n",
              "      <td>0.070000</td>\n",
              "      <td>-0.170000</td>\n",
              "      <td>0.180000</td>\n",
              "      <td>1.200000</td>\n",
              "      <td>-2.95858</td>\n",
              "      <td>-0.40171</td>\n",
              "      <td>1</td>\n",
              "      <td>1</td>\n",
              "      <td>1</td>\n",
              "    </tr>\n",
              "    <tr>\n",
              "      <th>3</th>\n",
              "      <td>1927-03-01</td>\n",
              "      <td>-2.976535</td>\n",
              "      <td>-2.445079</td>\n",
              "      <td>11.980268</td>\n",
              "      <td>-0.025000</td>\n",
              "      <td>-0.296667</td>\n",
              "      <td>0.110000</td>\n",
              "      <td>1.310000</td>\n",
              "      <td>1.21951</td>\n",
              "      <td>0.80666</td>\n",
              "      <td>1</td>\n",
              "      <td>1</td>\n",
              "      <td>1</td>\n",
              "    </tr>\n",
              "    <tr>\n",
              "      <th>4</th>\n",
              "      <td>1927-04-01</td>\n",
              "      <td>-2.984225</td>\n",
              "      <td>-2.471309</td>\n",
              "      <td>11.057640</td>\n",
              "      <td>0.139167</td>\n",
              "      <td>-0.247500</td>\n",
              "      <td>-0.060000</td>\n",
              "      <td>1.250000</td>\n",
              "      <td>-0.60241</td>\n",
              "      <td>1.20031</td>\n",
              "      <td>1</td>\n",
              "      <td>1</td>\n",
              "      <td>1</td>\n",
              "    </tr>\n",
              "    <tr>\n",
              "      <th>...</th>\n",
              "      <td>...</td>\n",
              "      <td>...</td>\n",
              "      <td>...</td>\n",
              "      <td>...</td>\n",
              "      <td>...</td>\n",
              "      <td>...</td>\n",
              "      <td>...</td>\n",
              "      <td>...</td>\n",
              "      <td>...</td>\n",
              "      <td>...</td>\n",
              "      <td>...</td>\n",
              "      <td>...</td>\n",
              "      <td>...</td>\n",
              "    </tr>\n",
              "    <tr>\n",
              "      <th>1100</th>\n",
              "      <td>2018-08-01</td>\n",
              "      <td>-4.015248</td>\n",
              "      <td>-3.102460</td>\n",
              "      <td>11.303303</td>\n",
              "      <td>0.460000</td>\n",
              "      <td>0.125591</td>\n",
              "      <td>0.859130</td>\n",
              "      <td>0.990870</td>\n",
              "      <td>0.04897</td>\n",
              "      <td>0.44494</td>\n",
              "      <td>1</td>\n",
              "      <td>1</td>\n",
              "      <td>1</td>\n",
              "    </tr>\n",
              "    <tr>\n",
              "      <th>1101</th>\n",
              "      <td>2018-09-01</td>\n",
              "      <td>-4.019533</td>\n",
              "      <td>-3.106745</td>\n",
              "      <td>10.763786</td>\n",
              "      <td>0.468333</td>\n",
              "      <td>0.206154</td>\n",
              "      <td>0.874211</td>\n",
              "      <td>0.975789</td>\n",
              "      <td>-0.44053</td>\n",
              "      <td>0.80311</td>\n",
              "      <td>1</td>\n",
              "      <td>1</td>\n",
              "      <td>1</td>\n",
              "    </tr>\n",
              "    <tr>\n",
              "      <th>1102</th>\n",
              "      <td>2018-10-01</td>\n",
              "      <td>-3.921036</td>\n",
              "      <td>-3.019594</td>\n",
              "      <td>12.364790</td>\n",
              "      <td>0.490000</td>\n",
              "      <td>0.309026</td>\n",
              "      <td>0.902273</td>\n",
              "      <td>0.987727</td>\n",
              "      <td>0.09833</td>\n",
              "      <td>0.13723</td>\n",
              "      <td>0</td>\n",
              "      <td>1</td>\n",
              "      <td>1</td>\n",
              "    </tr>\n",
              "    <tr>\n",
              "      <th>1103</th>\n",
              "      <td>2018-11-01</td>\n",
              "      <td>-3.938738</td>\n",
              "      <td>-3.037295</td>\n",
              "      <td>11.952011</td>\n",
              "      <td>0.478333</td>\n",
              "      <td>0.230670</td>\n",
              "      <td>0.787000</td>\n",
              "      <td>1.103000</td>\n",
              "      <td>0.49116</td>\n",
              "      <td>0.22029</td>\n",
              "      <td>1</td>\n",
              "      <td>1</td>\n",
              "      <td>1</td>\n",
              "    </tr>\n",
              "    <tr>\n",
              "      <th>1104</th>\n",
              "      <td>2018-12-01</td>\n",
              "      <td>-3.842472</td>\n",
              "      <td>-2.941030</td>\n",
              "      <td>14.838421</td>\n",
              "      <td>0.430833</td>\n",
              "      <td>-0.078084</td>\n",
              "      <td>0.462632</td>\n",
              "      <td>1.187368</td>\n",
              "      <td>-1.12414</td>\n",
              "      <td>0.53695</td>\n",
              "      <td>0</td>\n",
              "      <td>0</td>\n",
              "      <td>0</td>\n",
              "    </tr>\n",
              "  </tbody>\n",
              "</table>\n",
              "<p>1105 rows × 13 columns</p>\n",
              "</div>"
            ],
            "text/plain": [
              "           Date        dp        ep        vol  ...      ipg  ma0112  ma0312  mom06\n",
              "0    1926-12-01 -2.973012 -2.386837  13.320052  ... -0.39851       1       1      1\n",
              "1    1927-01-01 -2.942374 -2.374773  13.360827  ... -0.40010       1       1      1\n",
              "2    1927-02-01 -2.979535 -2.430353  13.803164  ... -0.40171       1       1      1\n",
              "3    1927-03-01 -2.976535 -2.445079  11.980268  ...  0.80666       1       1      1\n",
              "4    1927-04-01 -2.984225 -2.471309  11.057640  ...  1.20031       1       1      1\n",
              "...         ...       ...       ...        ...  ...      ...     ...     ...    ...\n",
              "1100 2018-08-01 -4.015248 -3.102460  11.303303  ...  0.44494       1       1      1\n",
              "1101 2018-09-01 -4.019533 -3.106745  10.763786  ...  0.80311       1       1      1\n",
              "1102 2018-10-01 -3.921036 -3.019594  12.364790  ...  0.13723       0       1      1\n",
              "1103 2018-11-01 -3.938738 -3.037295  11.952011  ...  0.22029       1       1      1\n",
              "1104 2018-12-01 -3.842472 -2.941030  14.838421  ...  0.53695       0       0      0\n",
              "\n",
              "[1105 rows x 13 columns]"
            ]
          },
          "metadata": {
            "tags": []
          },
          "execution_count": 174
        }
      ]
    },
    {
      "cell_type": "markdown",
      "metadata": {
        "id": "qWMNocZiCjzw"
      },
      "source": [
        "\n",
        "\n",
        "\n",
        "## 3.  Build the dataset\n",
        "\n"
      ]
    },
    {
      "cell_type": "code",
      "metadata": {
        "id": "DgOXmCokBZpB"
      },
      "source": [
        "# remove the first row and last row\n",
        "predictor.drop(axis=0, index=0, inplace=True)\n",
        "predictor = predictor[:-1]\n"
      ],
      "execution_count": null,
      "outputs": []
    },
    {
      "cell_type": "code",
      "metadata": {
        "id": "lUve3hWFBjKl"
      },
      "source": [
        "#date & rx\n",
        "startSample =pd.Timestamp('1927-01-01')\n",
        "rx=rx[rx['Date']>=startSample]\n",
        "\n",
        "\n",
        "date.columns = ['Date']\n",
        "date = date[date['Date']>=startSample]\n"
      ],
      "execution_count": 176,
      "outputs": []
    },
    {
      "cell_type": "code",
      "metadata": {
        "id": "GGFZoXd8BsJw"
      },
      "source": [
        "\n",
        "endIn = pd.Timestamp('1927-01-01')\n",
        "endInIndex = date.Date[date.Date == endIn].index.values\n",
        "endInIndex = endInIndex[0]\n",
        "\n"
      ],
      "execution_count": 177,
      "outputs": []
    },
    {
      "cell_type": "code",
      "metadata": {
        "id": "-BLszZ1fBw8o"
      },
      "source": [
        "actual = rx.stock[endInIndex:]\n",
        "actual.reset_index(drop=True, inplace=True) \n",
        "\n",
        "date = date.Date[endInIndex:]\n",
        "date.reset_index(drop=True, inplace=True) \n",
        "\n"
      ],
      "execution_count": 178,
      "outputs": []
    },
    {
      "cell_type": "code",
      "metadata": {
        "id": "u6sECGEhBzx_"
      },
      "source": [
        "actual = pd.DataFrame(actual)\n",
        "tableActual = pd.concat([date,actual],axis = 1)\n",
        "tableActual.columns = ['Date', 'return']\n",
        "tableActual.to_csv(\"tableActual.csv\",index = False)\n"
      ],
      "execution_count": 179,
      "outputs": []
    },
    {
      "cell_type": "code",
      "metadata": {
        "id": "4tJ5_j3IB24x"
      },
      "source": [
        "df_final = pd.merge(left=predictor, right=tableActual, how='inner',\n",
        "               left_on='Date', right_on='Date')"
      ],
      "execution_count": 180,
      "outputs": []
    },
    {
      "cell_type": "code",
      "metadata": {
        "colab": {
          "base_uri": "https://localhost:8080/",
          "height": 419
        },
        "id": "zAdFiPWpB44l",
        "outputId": "3ce12553-59d3-4596-8107-cc5433f031e6"
      },
      "source": [
        "df_final.rename(columns={'return':'return_1_month_after'}, inplace = True)\n",
        "df_final\n"
      ],
      "execution_count": 181,
      "outputs": [
        {
          "output_type": "execute_result",
          "data": {
            "text/html": [
              "<div>\n",
              "<style scoped>\n",
              "    .dataframe tbody tr th:only-of-type {\n",
              "        vertical-align: middle;\n",
              "    }\n",
              "\n",
              "    .dataframe tbody tr th {\n",
              "        vertical-align: top;\n",
              "    }\n",
              "\n",
              "    .dataframe thead th {\n",
              "        text-align: right;\n",
              "    }\n",
              "</style>\n",
              "<table border=\"1\" class=\"dataframe\">\n",
              "  <thead>\n",
              "    <tr style=\"text-align: right;\">\n",
              "      <th></th>\n",
              "      <th>Date</th>\n",
              "      <th>dp</th>\n",
              "      <th>ep</th>\n",
              "      <th>vol</th>\n",
              "      <th>bill</th>\n",
              "      <th>bond</th>\n",
              "      <th>term</th>\n",
              "      <th>credit</th>\n",
              "      <th>ppig</th>\n",
              "      <th>ipg</th>\n",
              "      <th>ma0112</th>\n",
              "      <th>ma0312</th>\n",
              "      <th>mom06</th>\n",
              "      <th>return_1_month_after</th>\n",
              "    </tr>\n",
              "  </thead>\n",
              "  <tbody>\n",
              "    <tr>\n",
              "      <th>0</th>\n",
              "      <td>1927-02-01</td>\n",
              "      <td>-2.979535</td>\n",
              "      <td>-2.430353</td>\n",
              "      <td>13.803164</td>\n",
              "      <td>0.070000</td>\n",
              "      <td>-0.170000</td>\n",
              "      <td>0.180000</td>\n",
              "      <td>1.200000</td>\n",
              "      <td>-2.95858</td>\n",
              "      <td>-0.40171</td>\n",
              "      <td>1</td>\n",
              "      <td>1</td>\n",
              "      <td>1</td>\n",
              "      <td>4.283033</td>\n",
              "    </tr>\n",
              "    <tr>\n",
              "      <th>1</th>\n",
              "      <td>1927-03-01</td>\n",
              "      <td>-2.976535</td>\n",
              "      <td>-2.445079</td>\n",
              "      <td>11.980268</td>\n",
              "      <td>-0.025000</td>\n",
              "      <td>-0.296667</td>\n",
              "      <td>0.110000</td>\n",
              "      <td>1.310000</td>\n",
              "      <td>1.21951</td>\n",
              "      <td>0.80666</td>\n",
              "      <td>1</td>\n",
              "      <td>1</td>\n",
              "      <td>1</td>\n",
              "      <td>0.458233</td>\n",
              "    </tr>\n",
              "    <tr>\n",
              "      <th>2</th>\n",
              "      <td>1927-04-01</td>\n",
              "      <td>-2.984225</td>\n",
              "      <td>-2.471309</td>\n",
              "      <td>11.057640</td>\n",
              "      <td>0.139167</td>\n",
              "      <td>-0.247500</td>\n",
              "      <td>-0.060000</td>\n",
              "      <td>1.250000</td>\n",
              "      <td>-0.60241</td>\n",
              "      <td>1.20031</td>\n",
              "      <td>1</td>\n",
              "      <td>1</td>\n",
              "      <td>1</td>\n",
              "      <td>1.035433</td>\n",
              "    </tr>\n",
              "    <tr>\n",
              "      <th>3</th>\n",
              "      <td>1927-05-01</td>\n",
              "      <td>-3.025963</td>\n",
              "      <td>-2.531446</td>\n",
              "      <td>12.820695</td>\n",
              "      <td>0.065833</td>\n",
              "      <td>-0.272500</td>\n",
              "      <td>-0.060000</td>\n",
              "      <td>1.300000</td>\n",
              "      <td>-1.21212</td>\n",
              "      <td>-2.37215</td>\n",
              "      <td>1</td>\n",
              "      <td>1</td>\n",
              "      <td>1</td>\n",
              "      <td>5.952800</td>\n",
              "    </tr>\n",
              "    <tr>\n",
              "      <th>4</th>\n",
              "      <td>1927-06-01</td>\n",
              "      <td>-3.007309</td>\n",
              "      <td>-2.531330</td>\n",
              "      <td>11.516150</td>\n",
              "      <td>-0.205833</td>\n",
              "      <td>-0.174167</td>\n",
              "      <td>0.270000</td>\n",
              "      <td>1.240000</td>\n",
              "      <td>-0.61350</td>\n",
              "      <td>0.80993</td>\n",
              "      <td>1</td>\n",
              "      <td>1</td>\n",
              "      <td>1</td>\n",
              "      <td>-2.314500</td>\n",
              "    </tr>\n",
              "    <tr>\n",
              "      <th>...</th>\n",
              "      <td>...</td>\n",
              "      <td>...</td>\n",
              "      <td>...</td>\n",
              "      <td>...</td>\n",
              "      <td>...</td>\n",
              "      <td>...</td>\n",
              "      <td>...</td>\n",
              "      <td>...</td>\n",
              "      <td>...</td>\n",
              "      <td>...</td>\n",
              "      <td>...</td>\n",
              "      <td>...</td>\n",
              "      <td>...</td>\n",
              "      <td>...</td>\n",
              "    </tr>\n",
              "    <tr>\n",
              "      <th>1097</th>\n",
              "      <td>2018-07-01</td>\n",
              "      <td>-3.985434</td>\n",
              "      <td>-3.072646</td>\n",
              "      <td>10.192575</td>\n",
              "      <td>0.475000</td>\n",
              "      <td>0.164603</td>\n",
              "      <td>0.929048</td>\n",
              "      <td>0.980952</td>\n",
              "      <td>0.49213</td>\n",
              "      <td>0.75146</td>\n",
              "      <td>1</td>\n",
              "      <td>1</td>\n",
              "      <td>0</td>\n",
              "      <td>3.556067</td>\n",
              "    </tr>\n",
              "    <tr>\n",
              "      <th>1098</th>\n",
              "      <td>2018-08-01</td>\n",
              "      <td>-4.015248</td>\n",
              "      <td>-3.102460</td>\n",
              "      <td>11.303303</td>\n",
              "      <td>0.460000</td>\n",
              "      <td>0.125591</td>\n",
              "      <td>0.859130</td>\n",
              "      <td>0.990870</td>\n",
              "      <td>0.04897</td>\n",
              "      <td>0.44494</td>\n",
              "      <td>1</td>\n",
              "      <td>1</td>\n",
              "      <td>1</td>\n",
              "      <td>3.130467</td>\n",
              "    </tr>\n",
              "    <tr>\n",
              "      <th>1099</th>\n",
              "      <td>2018-09-01</td>\n",
              "      <td>-4.019533</td>\n",
              "      <td>-3.106745</td>\n",
              "      <td>10.763786</td>\n",
              "      <td>0.468333</td>\n",
              "      <td>0.206154</td>\n",
              "      <td>0.874211</td>\n",
              "      <td>0.975789</td>\n",
              "      <td>-0.44053</td>\n",
              "      <td>0.80311</td>\n",
              "      <td>1</td>\n",
              "      <td>1</td>\n",
              "      <td>1</td>\n",
              "      <td>0.344633</td>\n",
              "    </tr>\n",
              "    <tr>\n",
              "      <th>1100</th>\n",
              "      <td>2018-10-01</td>\n",
              "      <td>-3.921036</td>\n",
              "      <td>-3.019594</td>\n",
              "      <td>12.364790</td>\n",
              "      <td>0.490000</td>\n",
              "      <td>0.309026</td>\n",
              "      <td>0.902273</td>\n",
              "      <td>0.987727</td>\n",
              "      <td>0.09833</td>\n",
              "      <td>0.13723</td>\n",
              "      <td>0</td>\n",
              "      <td>1</td>\n",
              "      <td>1</td>\n",
              "      <td>-7.018400</td>\n",
              "    </tr>\n",
              "    <tr>\n",
              "      <th>1101</th>\n",
              "      <td>2018-11-01</td>\n",
              "      <td>-3.938738</td>\n",
              "      <td>-3.037295</td>\n",
              "      <td>11.952011</td>\n",
              "      <td>0.478333</td>\n",
              "      <td>0.230670</td>\n",
              "      <td>0.787000</td>\n",
              "      <td>1.103000</td>\n",
              "      <td>0.49116</td>\n",
              "      <td>0.22029</td>\n",
              "      <td>1</td>\n",
              "      <td>1</td>\n",
              "      <td>1</td>\n",
              "      <td>1.810500</td>\n",
              "    </tr>\n",
              "  </tbody>\n",
              "</table>\n",
              "<p>1102 rows × 14 columns</p>\n",
              "</div>"
            ],
            "text/plain": [
              "           Date        dp        ep  ...  ma0312  mom06  return_1_month_after\n",
              "0    1927-02-01 -2.979535 -2.430353  ...       1      1              4.283033\n",
              "1    1927-03-01 -2.976535 -2.445079  ...       1      1              0.458233\n",
              "2    1927-04-01 -2.984225 -2.471309  ...       1      1              1.035433\n",
              "3    1927-05-01 -3.025963 -2.531446  ...       1      1              5.952800\n",
              "4    1927-06-01 -3.007309 -2.531330  ...       1      1             -2.314500\n",
              "...         ...       ...       ...  ...     ...    ...                   ...\n",
              "1097 2018-07-01 -3.985434 -3.072646  ...       1      0              3.556067\n",
              "1098 2018-08-01 -4.015248 -3.102460  ...       1      1              3.130467\n",
              "1099 2018-09-01 -4.019533 -3.106745  ...       1      1              0.344633\n",
              "1100 2018-10-01 -3.921036 -3.019594  ...       1      1             -7.018400\n",
              "1101 2018-11-01 -3.938738 -3.037295  ...       1      1              1.810500\n",
              "\n",
              "[1102 rows x 14 columns]"
            ]
          },
          "metadata": {
            "tags": []
          },
          "execution_count": 181
        }
      ]
    },
    {
      "cell_type": "markdown",
      "metadata": {
        "id": "23nTNeshEraX"
      },
      "source": [
        "\n",
        "\n",
        "\n",
        "## 4.   Plot the dataset\n",
        "\n"
      ]
    },
    {
      "cell_type": "code",
      "metadata": {
        "colab": {
          "base_uri": "https://localhost:8080/",
          "height": 444
        },
        "id": "WKjC4usqB57N",
        "outputId": "4a07f3f9-64d2-468e-9f7b-c7d7d73d0e6c"
      },
      "source": [
        "plt.figure(figsize=(12,6))\n",
        "sns.lineplot(x=df_final.Date, y=df_final['return_1_month_after'], data=df_final).set_title(\"excess return\")"
      ],
      "execution_count": 182,
      "outputs": [
        {
          "output_type": "execute_result",
          "data": {
            "text/plain": [
              "Text(0.5, 1.0, 'excess return')"
            ]
          },
          "metadata": {
            "tags": []
          },
          "execution_count": 182
        },
        {
          "output_type": "display_data",
          "data": {
            "image/png": "[encoded data removed]",
            "text/plain": [
              "<Figure size 864x432 with 1 Axes>"
            ]
          },
          "metadata": {
            "tags": [],
            "needs_background": "light"
          }
        }
      ]
    },
    {
      "cell_type": "markdown",
      "metadata": {
        "id": "akiHMyGpFGXL"
      },
      "source": [
        "\n",
        "\n",
        "## 5.   Separate the features and label\n",
        "\n"
      ]
    },
    {
      "cell_type": "code",
      "metadata": {
        "id": "Qdq6zek-B9yM"
      },
      "source": [
        "\n",
        "x=df_final.iloc[:,1:13]\n",
        "y=df_final.iloc[:,13]\n",
        "y = pd.DataFrame(y)\n",
        "\n"
      ],
      "execution_count": 183,
      "outputs": []
    },
    {
      "cell_type": "markdown",
      "metadata": {
        "id": "vKy2rYqVFQoW"
      },
      "source": [
        "\n",
        "\n",
        "\n",
        "## 6.   Split the training dataset and test dataset\n",
        "\n"
      ]
    },
    {
      "cell_type": "code",
      "metadata": {
        "id": "pCe2EZeyCAdz"
      },
      "source": [
        "train_x=x.iloc[0:900,:]\n",
        "test_x=x.iloc[900:,:]"
      ],
      "execution_count": 184,
      "outputs": []
    },
    {
      "cell_type": "code",
      "metadata": {
        "id": "yMDIycyyCC1B"
      },
      "source": [
        "train_y=y.iloc[0:900,:]\n",
        "test_y=y.iloc[900:,:]"
      ],
      "execution_count": 185,
      "outputs": []
    },
    {
      "cell_type": "code",
      "metadata": {
        "id": "b4ZkZoaoCFPy"
      },
      "source": [
        "trainx = np.array(train_x)\n",
        "trainy= np.array(train_y)"
      ],
      "execution_count": 186,
      "outputs": []
    },
    {
      "cell_type": "code",
      "metadata": {
        "id": "tsI2guPQCHi1"
      },
      "source": [
        "testx = np.array(test_x)\n",
        "testy= np.array(test_y)"
      ],
      "execution_count": 187,
      "outputs": []
    },
    {
      "cell_type": "code",
      "metadata": {
        "id": "63KSlT2UCJeg"
      },
      "source": [
        "#translates each feature individually such that it is in the given range on the training set, e.g. between zero and one.\n",
        "from sklearn.preprocessing import MinMaxScaler\n",
        "sc = MinMaxScaler()\n",
        "X_train = sc.fit_transform(trainx)\n",
        "X_test = sc.fit_transform(testx)\n",
        "y_train = sc.fit_transform(trainy)\n",
        "y_test = sc.fit_transform(testy)"
      ],
      "execution_count": 188,
      "outputs": []
    },
    {
      "cell_type": "code",
      "metadata": {
        "id": "02ewsDK0CLzh"
      },
      "source": [
        "X_train = X_train.reshape((len(X_train), 12, 1))\n",
        "X_test  = X_test.reshape((len(X_test), 12, 1))"
      ],
      "execution_count": 189,
      "outputs": []
    },
    {
      "cell_type": "code",
      "metadata": {
        "colab": {
          "base_uri": "https://localhost:8080/"
        },
        "id": "z1yTNHyhV5R4",
        "outputId": "1d50ab55-0562-4534-9177-1c15c6f26f6c"
      },
      "source": [
        "X_train.shape"
      ],
      "execution_count": 190,
      "outputs": [
        {
          "output_type": "execute_result",
          "data": {
            "text/plain": [
              "(900, 12, 1)"
            ]
          },
          "metadata": {
            "tags": []
          },
          "execution_count": 190
        }
      ]
    },
    {
      "cell_type": "code",
      "metadata": {
        "colab": {
          "base_uri": "https://localhost:8080/"
        },
        "id": "a9ILa8u4V6F8",
        "outputId": "263a6b99-3db4-4eae-9cec-9fb33b8eeb44"
      },
      "source": [
        "X_test.shape"
      ],
      "execution_count": 191,
      "outputs": [
        {
          "output_type": "execute_result",
          "data": {
            "text/plain": [
              "(202, 12, 1)"
            ]
          },
          "metadata": {
            "tags": []
          },
          "execution_count": 191
        }
      ]
    },
    {
      "cell_type": "code",
      "metadata": {
        "colab": {
          "base_uri": "https://localhost:8080/"
        },
        "id": "UxA3UoI7V6LS",
        "outputId": "70ef3334-998a-4adc-9f23-39a76bfd36fc"
      },
      "source": [
        "y_train.shape"
      ],
      "execution_count": 192,
      "outputs": [
        {
          "output_type": "execute_result",
          "data": {
            "text/plain": [
              "(900, 1)"
            ]
          },
          "metadata": {
            "tags": []
          },
          "execution_count": 192
        }
      ]
    },
    {
      "cell_type": "code",
      "metadata": {
        "colab": {
          "base_uri": "https://localhost:8080/"
        },
        "id": "XX104iotV6O-",
        "outputId": "f5c3b753-feca-4ac2-e150-f17e0d433464"
      },
      "source": [
        "y_test.shape"
      ],
      "execution_count": 193,
      "outputs": [
        {
          "output_type": "execute_result",
          "data": {
            "text/plain": [
              "(202, 1)"
            ]
          },
          "metadata": {
            "tags": []
          },
          "execution_count": 193
        }
      ]
    },
    {
      "cell_type": "markdown",
      "metadata": {
        "id": "rUME9z3PFZ8H"
      },
      "source": [
        "\n",
        "\n",
        "\n",
        "## 7.   implement the LSTM model\n",
        "\n"
      ]
    },
    {
      "cell_type": "code",
      "metadata": {
        "id": "iSMcWHB5CNjt"
      },
      "source": [
        "import tensorflow as tf\n",
        "from tensorflow.keras import layers"
      ],
      "execution_count": 194,
      "outputs": []
    },
    {
      "cell_type": "code",
      "metadata": {
        "colab": {
          "base_uri": "https://localhost:8080/"
        },
        "id": "NvomZ8HSCmhf",
        "outputId": "929ef2ba-55f6-4da3-c6fe-349f4c11bca0"
      },
      "source": [
        "model = tf.keras.Sequential()\n",
        "model.add(layers.LSTM(units=15, return_sequences=True,\n",
        "                  input_shape=(12,1)))\n",
        "model.add(layers.LSTM(units=15, return_sequences=True,\n",
        "                  ))\n",
        "model.add(layers.LSTM(units=15))\n",
        "model.add(layers.Dense(units=1))\n",
        "model.add(layers.Dense(units=1))\n",
        "\n",
        "model.summary()"
      ],
      "execution_count": 195,
      "outputs": [
        {
          "output_type": "stream",
          "text": [
            "Model: \"sequential_5\"\n",
            "_________________________________________________________________\n",
            "Layer (type)                 Output Shape              Param #   \n",
            "=================================================================\n",
            "lstm_15 (LSTM)               (None, 12, 15)            1020      \n",
            "_________________________________________________________________\n",
            "lstm_16 (LSTM)               (None, 12, 15)            1860      \n",
            "_________________________________________________________________\n",
            "lstm_17 (LSTM)               (None, 15)                1860      \n",
            "_________________________________________________________________\n",
            "dense_10 (Dense)             (None, 1)                 16        \n",
            "_________________________________________________________________\n",
            "dense_11 (Dense)             (None, 1)                 2         \n",
            "=================================================================\n",
            "Total params: 4,758\n",
            "Trainable params: 4,758\n",
            "Non-trainable params: 0\n",
            "_________________________________________________________________\n"
          ],
          "name": "stdout"
        }
      ]
    },
    {
      "cell_type": "code",
      "metadata": {
        "id": "CMQgsCBbCqFq"
      },
      "source": [
        "model.compile(optimizer='adam', loss='mean_squared_error')"
      ],
      "execution_count": 196,
      "outputs": []
    },
    {
      "cell_type": "code",
      "metadata": {
        "colab": {
          "base_uri": "https://localhost:8080/"
        },
        "id": "3um8qEhDCsbf",
        "outputId": "60f66568-980a-4bce-f4e6-b5709c41782e"
      },
      "source": [
        "history = model.fit(X_train, y_train, epochs=10, batch_size=20)"
      ],
      "execution_count": 197,
      "outputs": [
        {
          "output_type": "stream",
          "text": [
            "Epoch 1/10\n",
            "45/45 [==============================] - 5s 10ms/step - loss: 0.0370\n",
            "Epoch 2/10\n",
            "45/45 [==============================] - 0s 10ms/step - loss: 0.0069\n",
            "Epoch 3/10\n",
            "45/45 [==============================] - 0s 11ms/step - loss: 0.0065\n",
            "Epoch 4/10\n",
            "45/45 [==============================] - 0s 11ms/step - loss: 0.0065\n",
            "Epoch 5/10\n",
            "45/45 [==============================] - 0s 11ms/step - loss: 0.0065\n",
            "Epoch 6/10\n",
            "45/45 [==============================] - 1s 11ms/step - loss: 0.0065\n",
            "Epoch 7/10\n",
            "45/45 [==============================] - 0s 11ms/step - loss: 0.0065\n",
            "Epoch 8/10\n",
            "45/45 [==============================] - 0s 11ms/step - loss: 0.0064\n",
            "Epoch 9/10\n",
            "45/45 [==============================] - 0s 11ms/step - loss: 0.0065\n",
            "Epoch 10/10\n",
            "45/45 [==============================] - 1s 12ms/step - loss: 0.0064\n"
          ],
          "name": "stdout"
        }
      ]
    },
    {
      "cell_type": "markdown",
      "metadata": {
        "id": "b2j7LCNiFn7G"
      },
      "source": [
        "\n",
        "\n",
        "\n",
        "## 8.   Visualize the result\n",
        "\n"
      ]
    },
    {
      "cell_type": "code",
      "metadata": {
        "colab": {
          "base_uri": "https://localhost:8080/",
          "height": 515
        },
        "id": "psE1YTGGCu3Y",
        "outputId": "150864b3-b7df-4ee3-d178-853af30e1515"
      },
      "source": [
        "#plot the loss\n",
        "loss = history.history['loss']\n",
        "epoch_count = range(1, len(loss) + 1)\n",
        "plt.figure(figsize=(12,8))\n",
        "plt.plot(epoch_count, loss, 'r--')\n",
        "plt.legend(['Training Loss'])\n",
        "plt.xlabel('Epoch')\n",
        "plt.ylabel('Loss')\n",
        "plt.show();"
      ],
      "execution_count": 198,
      "outputs": [
        {
          "output_type": "display_data",
          "data": {
            "image/png": "[encoded data removed]",
            "text/plain": [
              "<Figure size 864x576 with 1 Axes>"
            ]
          },
          "metadata": {
            "tags": [],
            "needs_background": "light"
          }
        }
      ]
    },
    {
      "cell_type": "code",
      "metadata": {
        "colab": {
          "base_uri": "https://localhost:8080/",
          "height": 513
        },
        "id": "sfKu1O9sC08K",
        "outputId": "9b3d9298-60e0-470c-eb20-fcdcd4ad4e29"
      },
      "source": [
        "pred = model.predict(X_test)\n",
        "plt.figure(figsize=(12,8))\n",
        "plt.plot(y_test, color='blue', label='Real')\n",
        "plt.plot(pred, color='red', label='Prediction')\n",
        "plt.title('excess return Prediction')\n",
        "plt.legend()\n",
        "plt.show()"
      ],
      "execution_count": 199,
      "outputs": [
        {
          "output_type": "display_data",
          "data": {
            "image/png": "[encoded data removed]",
            "text/plain": [
              "<Figure size 864x576 with 1 Axes>"
            ]
          },
          "metadata": {
            "tags": [],
            "needs_background": "light"
          }
        }
      ]
    },
    {
      "cell_type": "markdown",
      "metadata": {
        "id": "cZjy5eK_Fmaf"
      },
      "source": [
        "\n",
        "\n",
        "\n",
        "## 9.   Calculate the R Squared\n",
        "\n"
      ]
    },
    {
      "cell_type": "code",
      "metadata": {
        "id": "S9WWw3LyC5T0",
        "colab": {
          "base_uri": "https://localhost:8080/"
        },
        "outputId": "ca269266-915e-4643-cce2-d5c0756647ae"
      },
      "source": [
        "!pip install -U scikit-learn\n",
        "from sklearn.metrics import mean_squared_error, r2_score, mean_absolute_error"
      ],
      "execution_count": 200,
      "outputs": [
        {
          "output_type": "stream",
          "text": [
            "Requirement already up-to-date: scikit-learn in /usr/local/lib/python3.7/dist-packages (0.24.2)\n",
            "Requirement already satisfied, skipping upgrade: threadpoolctl>=2.0.0 in /usr/local/lib/python3.7/dist-packages (from scikit-learn) (2.1.0)\n",
            "Requirement already satisfied, skipping upgrade: numpy>=1.13.3 in /usr/local/lib/python3.7/dist-packages (from scikit-learn) (1.19.5)\n",
            "Requirement already satisfied, skipping upgrade: joblib>=0.11 in /usr/local/lib/python3.7/dist-packages (from scikit-learn) (1.0.1)\n",
            "Requirement already satisfied, skipping upgrade: scipy>=0.19.1 in /usr/local/lib/python3.7/dist-packages (from scikit-learn) (1.4.1)\n"
          ],
          "name": "stdout"
        }
      ]
    },
    {
      "cell_type": "code",
      "metadata": {
        "id": "GDhVfsHDDEcg",
        "colab": {
          "base_uri": "https://localhost:8080/"
        },
        "outputId": "8a3a4a64-4da8-4789-f3c1-d319cd7537bc"
      },
      "source": [
        "\n",
        "print('R2 Score: ', r2_score(y_test, pred))\n",
        "print('MAE: ', mean_absolute_error(y_test, pred))"
      ],
      "execution_count": 201,
      "outputs": [
        {
          "output_type": "stream",
          "text": [
            "R2 Score:  -1.4542026719659065\n",
            "MAE:  0.19772076553749235\n"
          ],
          "name": "stdout"
        }
      ]
    }
  ]
}